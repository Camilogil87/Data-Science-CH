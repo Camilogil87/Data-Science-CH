{
  "nbformat": 4,
  "nbformat_minor": 0,
  "metadata": {
    "colab": {
      "name": "MiprimerPorgramaenPython Gil Charrasquiel.ipynb",
      "provenance": [],
      "collapsed_sections": [],
      "authorship_tag": "ABX9TyN0rMpxOYBpIqKx+m5vILfy",
      "include_colab_link": true
    },
    "kernelspec": {
      "name": "python3",
      "display_name": "Python 3"
    },
    "language_info": {
      "name": "python"
    }
  },
  "cells": [
    {
      "cell_type": "markdown",
      "metadata": {
        "id": "view-in-github",
        "colab_type": "text"
      },
      "source": [
        "<a href=\"https://colab.research.google.com/github/Camilogil87/Data-Science-CH/blob/main/MiprimerPorgramaenPython_Gil_Charrasquiel.ipynb\" target=\"_parent\"><img src=\"https://colab.research.google.com/assets/colab-badge.svg\" alt=\"Open In Colab\"/></a>"
      ]
    },
    {
      "cell_type": "markdown",
      "source": [
        "**Cálculo de nota final de un alumno basado en dos exámenes**"
      ],
      "metadata": {
        "id": "lmRT4zkI4ia6"
      }
    },
    {
      "cell_type": "code",
      "source": [
        "examen_1=int(input(\"Cúal fue la nota del primer examen? \"))"
      ],
      "metadata": {
        "colab": {
          "base_uri": "https://localhost:8080/"
        },
        "id": "3aUF4qLU4web",
        "outputId": "9049f78b-2baa-48e2-e454-a14f76c7b00a"
      },
      "execution_count": 23,
      "outputs": [
        {
          "name": "stdout",
          "output_type": "stream",
          "text": [
            "Cúal fue la nota del primer examen? 5\n"
          ]
        }
      ]
    },
    {
      "cell_type": "code",
      "source": [
        "examen_2=int(input(\"Cúal fue la nota del segundo exámen? \"))"
      ],
      "metadata": {
        "colab": {
          "base_uri": "https://localhost:8080/"
        },
        "id": "BgIR-0BM5C7D",
        "outputId": "a36e89b8-2cb1-48e3-81f0-78f717d1d0a6"
      },
      "execution_count": 24,
      "outputs": [
        {
          "name": "stdout",
          "output_type": "stream",
          "text": [
            "Cúal fue la nota del segundo exámen? 3\n"
          ]
        }
      ]
    },
    {
      "cell_type": "code",
      "source": [
        "nota_final= (examen_1*0.4) + (examen_2*0.6)"
      ],
      "metadata": {
        "id": "Sn0KU_wZ6n5s"
      },
      "execution_count": 25,
      "outputs": []
    },
    {
      "cell_type": "code",
      "source": [
        "nota_final=str(nota_final)"
      ],
      "metadata": {
        "id": "iJL3i5r79ZJs"
      },
      "execution_count": 26,
      "outputs": []
    },
    {
      "cell_type": "code",
      "source": [
        "print(str(\"tu nota final fue: \"+ nota_final ))"
      ],
      "metadata": {
        "colab": {
          "base_uri": "https://localhost:8080/"
        },
        "id": "9hwWjpXN8Orj",
        "outputId": "30c2b69c-dfb1-4fe8-91fb-10bb821d0798"
      },
      "execution_count": 27,
      "outputs": [
        {
          "output_type": "stream",
          "name": "stdout",
          "text": [
            "tu nota final fue: 3.8\n"
          ]
        }
      ]
    }
  ]
}